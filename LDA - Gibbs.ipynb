{
 "cells": [
  {
   "cell_type": "code",
   "execution_count": 1,
   "metadata": {
    "collapsed": true
   },
   "outputs": [],
   "source": [
    "from __future__ import absolute_import\n",
    "from __future__ import print_function\n",
    "from __future__ import division\n",
    "\n",
    "%matplotlib inline\n",
    "\n",
    "import numpy as np\n",
    "from scipy.special import gammaln\n",
    "import pandas as pd\n",
    "\n",
    "import matplotlib.pyplot as plt\n",
    "import seaborn as sns\n",
    "\n",
    "sns.set_context(\"poster\")\n",
    "sns.set_style(\"ticks\")\n",
    "\n",
    "import re"
   ]
  },
  {
   "cell_type": "code",
   "execution_count": 2,
   "metadata": {
    "collapsed": false
   },
   "outputs": [],
   "source": [
    "from sklearn.datasets import fetch_20newsgroups\n",
    "from tqdm import tqdm_notebook, tqdm"
   ]
  },
  {
   "cell_type": "code",
   "execution_count": 3,
   "metadata": {
    "collapsed": false
   },
   "outputs": [],
   "source": [
    "newsgroups_train = fetch_20newsgroups(subset='train')\n",
    "newsgroups_test = fetch_20newsgroups(subset='test')"
   ]
  },
  {
   "cell_type": "code",
   "execution_count": 4,
   "metadata": {
    "collapsed": false
   },
   "outputs": [],
   "source": [
    "NON_NUMS_PATTERN=re.compile(r'[^a-z]')\n",
    "SPLIT_PATTERN=re.compile(r'[\\n\\s]+')\n",
    "\n",
    "def preprocess(text):\n",
    "    text = \"\\n\".join(text.lower().strip().split(\"\\n\\n\")[1:-1])\n",
    "    text = [k.strip() for k in text.split(\"\\n\") if k.strip() and k.strip()[-1] != \":\"]\n",
    "    return SPLIT_PATTERN.split(NON_NUMS_PATTERN.sub(\" \", \"\\n\".join(text)).strip())"
   ]
  },
  {
   "cell_type": "code",
   "execution_count": 5,
   "metadata": {
    "collapsed": false,
    "scrolled": false
   },
   "outputs": [],
   "source": [
    "def build_vocab(data, min_freq=2, max_percent=.1):\n",
    "    word2id = {} # id, counts\n",
    "    i = 1\n",
    "    for item in data:\n",
    "        for word in preprocess(item):\n",
    "            if word not in word2id:\n",
    "                word2id[word] = [i, 0]\n",
    "                i += 1\n",
    "            word2id[word][1] += 1\n",
    "    total = len(word2id)\n",
    "    filtered_ids = int(total * max_percent)\n",
    "    word2id = sorted(word2id.iteritems(), key=lambda x: x[1][1], reverse=True)[filtered_ids:]\n",
    "    word2id = filter(lambda x: x[1][1] > min_freq, word2id)\n",
    "    word2id.append((\"UNK\", (len(word2id),0)))\n",
    "    id2word = [k[0] for k in word2id]\n",
    "    word2id = {k[0]: (i, k[1][1]) for i, k in enumerate(word2id)}\n",
    "    return id2word, word2id\n",
    "    "
   ]
  },
  {
   "cell_type": "code",
   "execution_count": 7,
   "metadata": {
    "collapsed": false
   },
   "outputs": [
    {
     "name": "stdout",
     "output_type": "stream",
     "text": [
      "Vocab size: 23038\n"
     ]
    }
   ],
   "source": [
    "id2word, word2id = build_vocab(newsgroups_train.data, min_freq=2, max_percent=.1)\n",
    "print(\"Vocab size: %s\" % len(id2word))"
   ]
  },
  {
   "cell_type": "code",
   "execution_count": 8,
   "metadata": {
    "collapsed": false
   },
   "outputs": [
    {
     "name": "stdout",
     "output_type": "stream",
     "text": [
      "idiots (0, 30)\n",
      "omniscient (1, 30)\n",
      "translate (2, 30)\n",
      "presently (3, 30)\n",
      "easiest (4, 30)\n",
      "supplies (5, 30)\n",
      "seminar (6, 30)\n",
      "pkp (7, 30)\n",
      "aftermarket (8, 30)\n",
      "burns (9, 30)\n"
     ]
    }
   ],
   "source": [
    "for w in id2word[:10]:\n",
    "    print(w, word2id[w])"
   ]
  },
  {
   "cell_type": "markdown",
   "metadata": {},
   "source": [
    "## LDA implementation"
   ]
  },
  {
   "cell_type": "code",
   "execution_count": 30,
   "metadata": {
    "collapsed": true
   },
   "outputs": [],
   "source": [
    "class LDAModel(object):\n",
    "    \"\"\"Build LDA model\n",
    "    K = number of topics\n",
    "    D = number of documents\n",
    "    vocab = vocabulary\n",
    "    beta\n",
    "    alpha\n",
    "    \"\"\"\n",
    "    \n",
    "    def __init__(self, K, D, vocab, beta=0.5, alpha=1.):\n",
    "        self.K = K\n",
    "        self.D = D\n",
    "        self.vocab = vocab\n",
    "        self.V = len(vocab) - 1 # UNK is the last word in vocab\n",
    "        self.beta = beta\n",
    "        self.alpha = alpha\n",
    "        self.DK = np.zeros((self.D, self.K))\n",
    "        self.KW = np.zeros((self.K, self.V))\n",
    "        self.K_sum = np.zeros(self.K)\n",
    "        \n",
    "        self.DK += self.alpha\n",
    "        self.KW += self.beta\n",
    "        self.K_sum += self.beta*self.V\n",
    "        \n",
    "        self.trace = []\n",
    "        \n",
    "    def __random_init(self, docs):\n",
    "        self.topic_assignments = []\n",
    "        for di, doc in enumerate(docs):\n",
    "            d_topics = np.random.randint(self.K, size=len(doc))\n",
    "            for wi, w in enumerate(doc):\n",
    "                ti = d_topics[wi]\n",
    "                self.KW[ti, w] += 1\n",
    "                self.DK[di, ti] += 1\n",
    "                self.K_sum[ti] += 1\n",
    "            self.topic_assignments.append(d_topics)\n",
    "            \n",
    "            \n",
    "    def fit(self, docs, max_iters=10, print_every=10, keep_trace=True, test_docs=None):\n",
    "        if test_docs is None:\n",
    "            test_docs = docs\n",
    "        self.__random_init(docs)\n",
    "        print(\"Model initialized\")\n",
    "        for ii in tqdm_notebook(xrange(max_iters), total=max_iters, desc=\"Iterations\"):\n",
    "            for di, doc in enumerate(docs):\n",
    "                for wi, w in enumerate(doc):\n",
    "                    # Remove old topic assignment for word\n",
    "                    old_ti = self.topic_assignments[di][wi]\n",
    "                    self.KW[old_ti, w] -= 1\n",
    "                    self.DK[di, old_ti] -= 1\n",
    "                    self.K_sum[old_ti] -= 1\n",
    "\n",
    "                    # Find best topic for the given word in the given document\n",
    "                    prob = (self.KW[:, w] / self.K_sum) *self.DK[di, :]\n",
    "                    new_ti = np.random.multinomial(1, prob / prob.sum()).argmax()\n",
    "                    self.topic_assignments[di][wi] = new_ti\n",
    "\n",
    "                    # Assign the new topic to the word and update tables\n",
    "                    self.KW[new_ti, w] += 1\n",
    "                    self.DK[di, new_ti] += 1\n",
    "                    self.K_sum[new_ti] += 1\n",
    "            if print_every > 0 and ii % print_every == 0:\n",
    "                pp = self.perplexity(test_docs, is_test=True)\n",
    "                if keep_trace:\n",
    "                    self.trace.append((ii, pp))\n",
    "                print(\"ITER %s: PP=%.4f\" % (ii, pp))\n",
    "                self.show_topics(topn=5)\n",
    "\n",
    "    def loglikelihood(self, docs):\n",
    "        ll = self.D * gammaln(self.alpha*self.K)\n",
    "        ll -= self.D*self.K*gammaln(self.alpha)\n",
    "        ll += self.K*gammaln(self.beta*self.V)\n",
    "        ll -= self.K*self.V*gammaln(self.beta)\n",
    "        for di in xrange(self.D):\n",
    "            ll += gammaln(self.DK[di, :]).sum() - gammaln(self.DK[di, :].sum())\n",
    "        for ti in xrange(self.K):\n",
    "            ll += gammaln(self.KW[ti, :]).sum() - gammaln(self.KW[ti, :].sum())\n",
    "        return ll\n",
    "\n",
    "    def init_test(self, test_docs, max_iters=10):\n",
    "        NTD = len(test_docs)\n",
    "        DTK = np.zeros((NTD, self.K))\n",
    "        DTK += self.alpha\n",
    "        test_topic_assignments = []\n",
    "        ## init test matrix\n",
    "        for di, doc in enumerate(test_docs):\n",
    "            d_topics = []\n",
    "            for wi, w in enumerate(doc):\n",
    "                ti = np.random.randint(self.K)\n",
    "                DTK[di, ti] += 1\n",
    "                d_topics.append(ti)\n",
    "            test_topic_assignments.append(d_topics)\n",
    "            \n",
    "        ## perform gibbs sampling\n",
    "        for ii in tqdm_notebook(xrange(max_iters), total=max_iters, desc=\"Test Iterations\"):\n",
    "            for di, doc in enumerate(test_docs):\n",
    "                for wi, w in enumerate(doc):\n",
    "                    old_ti = test_topic_assignments[di][wi]\n",
    "                    DTK[di, old_ti] -= 1\n",
    "\n",
    "                    # Find best topic for the given word in the given document\n",
    "                    prob = (self.KW[:, w] / self.K_sum) *DTK[di, :]\n",
    "                    new_ti = np.random.multinomial(1, prob / prob.sum()).argmax()\n",
    "                    test_topic_assignments[di][wi] = new_ti\n",
    "\n",
    "                    # Assign the new topic to the word and update tables\n",
    "                    DTK[di, new_ti] += 1\n",
    "        ## return test document topic matrix\n",
    "        return DTK\n",
    "    \n",
    "    def perplexity(self, docs, is_test=False, max_iters=10):\n",
    "        if is_test:\n",
    "            DTK = self.init_test(docs, max_iters=max_iters)\n",
    "        else:\n",
    "            DTK = self.DK\n",
    "        ## get topic word dist\n",
    "        phi = self.KW / self.K_sum[:, np.newaxis]\n",
    "        ## init values\n",
    "        log_per = 0\n",
    "        N = 0\n",
    "        ## find likelihood\n",
    "        for di, doc in enumerate(docs):\n",
    "            theta = DTK[di] / DTK[di].sum()\n",
    "            for wi, w in enumerate(doc):\n",
    "                log_per -= np.log(np.inner(phi[:,w], theta))\n",
    "            N += len(doc)\n",
    "        pp = np.exp(log_per / N)\n",
    "        return pp\n",
    "\n",
    "    def show_topics(self, topn=10):\n",
    "        topn_wids = self.KW.argsort(axis=1)[:, ::-1][:, :topn]\n",
    "        for ti, top_wis in enumerate(topn_wids):\n",
    "            print(\"TOPIC %s: %s\"\n",
    "                  % (ti, \"\\t\".join(\"%s (%.2f %%)\" \n",
    "                                   % (self.vocab[wi],\n",
    "                                      self.KW[ti, wi] * 100./ self.K_sum[ti])\n",
    "                                   for wi in top_wis)))        "
   ]
  },
  {
   "cell_type": "code",
   "execution_count": 10,
   "metadata": {
    "collapsed": false
   },
   "outputs": [],
   "source": [
    "def preprocess_corpus(data, word2id):\n",
    "    docs = []\n",
    "    for item in data:\n",
    "        d = []\n",
    "        for word in preprocess(item):\n",
    "            if word in word2id:\n",
    "                d.append(word2id[word][0])\n",
    "        docs.append(d)\n",
    "    return docs"
   ]
  },
  {
   "cell_type": "code",
   "execution_count": 11,
   "metadata": {
    "collapsed": false
   },
   "outputs": [
    {
     "name": "stdout",
     "output_type": "stream",
     "text": [
      "Training docs: 11314\n",
      "Test docs: 7532\n"
     ]
    }
   ],
   "source": [
    "docs = preprocess_corpus(newsgroups_train.data, word2id)\n",
    "print(\"Training docs: %s\" % len(docs))\n",
    "\n",
    "test_docs = preprocess_corpus(newsgroups_test.data, word2id)\n",
    "print(\"Test docs: %s\" %len(test_docs))"
   ]
  },
  {
   "cell_type": "code",
   "execution_count": 20,
   "metadata": {
    "collapsed": false
   },
   "outputs": [],
   "source": [
    "model = LDAModel(K=5, D=len(newsgroups_train.data), vocab=id2word, beta=0.5, alpha=0.1)"
   ]
  },
  {
   "cell_type": "code",
   "execution_count": 21,
   "metadata": {
    "collapsed": false
   },
   "outputs": [
    {
     "name": "stdout",
     "output_type": "stream",
     "text": [
      "Model initialized\n",
      "ITER 0: PP=16768.0328\n",
      "TOPIC 0: netnews (0.04 %)\theritage (0.04 %)\tgrown (0.04 %)\tomniscient (0.04 %)\tmigraine (0.04 %)\n",
      "TOPIC 1: mime (0.04 %)\tneedles (0.04 %)\talternate (0.04 %)\txsizehints (0.04 %)\tholder (0.04 %)\n",
      "TOPIC 2: exercises (0.04 %)\tneely (0.04 %)\tfunctional (0.04 %)\tmod (0.04 %)\tmerits (0.04 %)\n",
      "TOPIC 3: rockwell (0.05 %)\tterritorial (0.04 %)\tgentile (0.04 %)\tnmm (0.04 %)\tlicenses (0.04 %)\n",
      "TOPIC 4: negev (0.04 %)\tbone (0.04 %)\tcullen (0.04 %)\tzoo (0.04 %)\tcaligiuri (0.04 %)\n",
      "ITER 10: PP=14195.7785\n",
      "TOPIC 0: aftermarket (0.06 %)\tomniscient (0.06 %)\tmessenger (0.06 %)\tyo (0.05 %)\tconner (0.05 %)\n",
      "TOPIC 1: seminar (0.06 %)\txtpointer (0.06 %)\tdtmedin (0.05 %)\tcatbyte (0.05 %)\tbindings (0.05 %)\n",
      "TOPIC 2: hobgoblin (0.06 %)\tyzerman (0.06 %)\tpoulin (0.06 %)\tpunisher (0.06 %)\tczech (0.06 %)\n",
      "TOPIC 3: pittsburg (0.06 %)\tfleet (0.06 %)\trockwell (0.06 %)\targentina (0.06 %)\tbolshevik (0.05 %)\n",
      "TOPIC 4: luna (0.06 %)\thojali (0.06 %)\tozzie (0.06 %)\tcols (0.06 %)\tfyn (0.06 %)\n",
      "ITER 20: PP=12964.6785\n",
      "TOPIC 0: messenger (0.05 %)\tomniscient (0.05 %)\tmuhammad (0.05 %)\tinference (0.05 %)\tharddisk (0.05 %)\n",
      "TOPIC 1: ncsa (0.06 %)\txtpointer (0.06 %)\tkeycode (0.06 %)\ttvtwm (0.06 %)\tplplot (0.05 %)\n",
      "TOPIC 2: andersson (0.06 %)\thobgoblin (0.06 %)\tyzerman (0.06 %)\tpoulin (0.06 %)\tdecenso (0.06 %)\n",
      "TOPIC 3: hojali (0.06 %)\tfleet (0.06 %)\thelicopter (0.06 %)\tpittsburg (0.05 %)\twinbench (0.05 %)\n",
      "TOPIC 4: pkp (0.07 %)\tluna (0.07 %)\tfyn (0.06 %)\tozzie (0.06 %)\tcols (0.06 %)\n",
      "ITER 30: PP=12103.8947\n",
      "TOPIC 0: omniscient (0.05 %)\tcor (0.05 %)\tmuhammad (0.05 %)\tmessenger (0.05 %)\teternity (0.05 %)\n",
      "TOPIC 1: tvtwm (0.06 %)\tconverters (0.06 %)\tdiff (0.06 %)\tatari (0.05 %)\txtpointer (0.05 %)\n",
      "TOPIC 2: hobgoblin (0.07 %)\tandersson (0.07 %)\tdecenso (0.06 %)\tpoulin (0.06 %)\tnylander (0.06 %)\n",
      "TOPIC 3: hojali (0.06 %)\thelicopter (0.06 %)\tpockets (0.05 %)\twinbench (0.05 %)\tcypriot (0.05 %)\n",
      "TOPIC 4: luna (0.07 %)\tozzie (0.07 %)\tcdi (0.07 %)\tfyn (0.07 %)\tarens (0.07 %)\n",
      "ITER 40: PP=11741.5282\n",
      "TOPIC 0: omniscient (0.05 %)\tmessenger (0.05 %)\tcor (0.05 %)\tmuhammad (0.05 %)\teternity (0.05 %)\n",
      "TOPIC 1: ncsa (0.05 %)\tconverters (0.05 %)\tdiff (0.05 %)\ttvtwm (0.05 %)\tatari (0.05 %)\n",
      "TOPIC 2: andersson (0.07 %)\thobgoblin (0.07 %)\tdecenso (0.07 %)\tgoaltender (0.07 %)\tyzerman (0.07 %)\n",
      "TOPIC 3: hojali (0.06 %)\thelicopter (0.05 %)\tolney (0.05 %)\tcypriot (0.05 %)\tparliament (0.05 %)\n",
      "TOPIC 4: luna (0.07 %)\tbullpen (0.07 %)\tfyn (0.07 %)\tarens (0.07 %)\thitters (0.07 %)\n",
      "ITER 50: PP=11543.2805\n",
      "TOPIC 0: omniscient (0.05 %)\tmessenger (0.05 %)\tgentile (0.05 %)\tcor (0.05 %)\tcontradicts (0.05 %)\n",
      "TOPIC 1: tvtwm (0.05 %)\thex (0.05 %)\tieee (0.05 %)\tkeycode (0.05 %)\tdiff (0.05 %)\n",
      "TOPIC 2: andersson (0.07 %)\thobgoblin (0.07 %)\tgoaltender (0.07 %)\tpoulin (0.07 %)\tnylander (0.07 %)\n",
      "TOPIC 3: hojali (0.06 %)\tolney (0.06 %)\thelicopter (0.06 %)\tparliament (0.06 %)\tcypriot (0.05 %)\n",
      "TOPIC 4: luna (0.07 %)\tcardinals (0.07 %)\tbullpen (0.07 %)\tarens (0.07 %)\thitters (0.07 %)\n",
      "ITER 60: PP=11464.1848\n",
      "TOPIC 0: omniscient (0.05 %)\tcor (0.05 %)\tmessenger (0.05 %)\tgentile (0.05 %)\tmuhammad (0.05 %)\n",
      "TOPIC 1: atari (0.05 %)\tconverters (0.05 %)\ttvtwm (0.05 %)\tdiff (0.05 %)\tharddisk (0.05 %)\n",
      "TOPIC 2: hobgoblin (0.07 %)\tandersson (0.07 %)\tpoulin (0.07 %)\tnylander (0.07 %)\tyzerman (0.07 %)\n",
      "TOPIC 3: hojali (0.06 %)\thelicopter (0.05 %)\tolney (0.05 %)\targentina (0.05 %)\tcypriot (0.05 %)\n",
      "TOPIC 4: cardinals (0.07 %)\tluna (0.07 %)\tozzie (0.07 %)\thitters (0.07 %)\tcols (0.07 %)\n",
      "ITER 70: PP=11353.1066\n",
      "TOPIC 0: omniscient (0.05 %)\ttheological (0.05 %)\tmessenger (0.05 %)\tmuhammad (0.05 %)\tgentile (0.05 %)\n",
      "TOPIC 1: tvtwm (0.05 %)\tatari (0.05 %)\tharddisk (0.05 %)\txtpointer (0.05 %)\tmatrix (0.05 %)\n",
      "TOPIC 2: goaltender (0.07 %)\thobgoblin (0.07 %)\tandersson (0.07 %)\tpoulin (0.07 %)\tyzerman (0.07 %)\n",
      "TOPIC 3: helicopter (0.06 %)\thojali (0.06 %)\tolney (0.05 %)\tbumper (0.05 %)\targentina (0.05 %)\n",
      "TOPIC 4: cardinals (0.07 %)\tluna (0.07 %)\tozzie (0.07 %)\trevolvers (0.07 %)\tcdi (0.07 %)\n",
      "ITER 80: PP=11321.4817\n",
      "TOPIC 0: omniscient (0.05 %)\tmessenger (0.05 %)\tmuhammad (0.05 %)\teternity (0.05 %)\tcor (0.05 %)\n",
      "TOPIC 1: converters (0.05 %)\tharddisk (0.05 %)\ttvtwm (0.05 %)\tatari (0.05 %)\txtpointer (0.05 %)\n",
      "TOPIC 2: andersson (0.07 %)\tgoaltender (0.07 %)\thobgoblin (0.07 %)\tnylander (0.07 %)\tpoulin (0.07 %)\n",
      "TOPIC 3: helicopter (0.06 %)\thojali (0.06 %)\tparliament (0.05 %)\tolney (0.05 %)\tpittsburg (0.05 %)\n",
      "TOPIC 4: luna (0.07 %)\tcardinals (0.07 %)\tfyn (0.07 %)\tbullpen (0.07 %)\tozzie (0.07 %)\n",
      "ITER 90: PP=11299.6364\n",
      "TOPIC 0: messenger (0.05 %)\tgentile (0.05 %)\tmuhammad (0.05 %)\tomniscient (0.05 %)\tcor (0.05 %)\n",
      "TOPIC 1: diff (0.05 %)\tconverters (0.05 %)\tbundled (0.05 %)\tconfigure (0.05 %)\tmatrix (0.05 %)\n",
      "TOPIC 2: hobgoblin (0.07 %)\tpoulin (0.07 %)\tyzerman (0.07 %)\tnylander (0.07 %)\tandersson (0.07 %)\n",
      "TOPIC 3: hojali (0.06 %)\thelicopter (0.06 %)\tolney (0.05 %)\tyeltsin (0.05 %)\targentina (0.05 %)\n",
      "TOPIC 4: cardinals (0.07 %)\thitters (0.07 %)\tbullpen (0.07 %)\tarens (0.07 %)\trevolvers (0.07 %)\n",
      "\n"
     ]
    }
   ],
   "source": [
    "model.fit(docs, max_iters=100, print_every=10, test_docs=test_docs)"
   ]
  },
  {
   "cell_type": "code",
   "execution_count": 22,
   "metadata": {
    "collapsed": false
   },
   "outputs": [
    {
     "name": "stdout",
     "output_type": "stream",
     "text": [
      "TOPIC 0: theological (0.05 %)\tgentile (0.05 %)\tomniscient (0.05 %)\tmessenger (0.05 %)\tmuhammad (0.05 %)\tcor (0.05 %)\tdecenso (0.05 %)\tblindly (0.05 %)\teternity (0.05 %)\trelationships (0.05 %)\n",
      "TOPIC 1: tvtwm (0.05 %)\tatari (0.05 %)\tconverters (0.05 %)\tharddisk (0.05 %)\tshading (0.05 %)\txtpointer (0.05 %)\tconfigure (0.05 %)\tvector (0.05 %)\tmatrix (0.05 %)\tieee (0.05 %)\n",
      "TOPIC 2: hobgoblin (0.07 %)\tandersson (0.07 %)\tpoulin (0.07 %)\tgoaltender (0.07 %)\tnylander (0.07 %)\tyzerman (0.07 %)\troughing (0.07 %)\tcoffey (0.07 %)\tramsey (0.07 %)\tpunisher (0.07 %)\n",
      "TOPIC 3: helicopter (0.06 %)\thojali (0.06 %)\tolney (0.05 %)\tpittsburg (0.05 %)\tcypriot (0.05 %)\tbumper (0.05 %)\targentina (0.05 %)\tparliament (0.05 %)\tyeltsin (0.05 %)\tnmm (0.05 %)\n",
      "TOPIC 4: cardinals (0.08 %)\tpkp (0.08 %)\trevolvers (0.07 %)\tbullpen (0.07 %)\thitters (0.07 %)\tfyn (0.07 %)\tmotorcycling (0.07 %)\tcdi (0.07 %)\tozzie (0.07 %)\tteel (0.07 %)\n"
     ]
    }
   ],
   "source": [
    "model.show_topics()"
   ]
  },
  {
   "cell_type": "code",
   "execution_count": 24,
   "metadata": {
    "collapsed": false
   },
   "outputs": [
    {
     "data": {
      "text/html": [
       "<div>\n",
       "<table border=\"1\" class=\"dataframe\">\n",
       "  <thead>\n",
       "    <tr style=\"text-align: right;\">\n",
       "      <th></th>\n",
       "      <th>0</th>\n",
       "      <th>1</th>\n",
       "      <th>2</th>\n",
       "      <th>3</th>\n",
       "      <th>4</th>\n",
       "      <th>target</th>\n",
       "    </tr>\n",
       "  </thead>\n",
       "  <tbody>\n",
       "    <tr>\n",
       "      <th>0</th>\n",
       "      <td>2.222222</td>\n",
       "      <td>2.222222</td>\n",
       "      <td>68.888889</td>\n",
       "      <td>24.444444</td>\n",
       "      <td>2.222222</td>\n",
       "      <td>alt.atheism</td>\n",
       "    </tr>\n",
       "    <tr>\n",
       "      <th>1</th>\n",
       "      <td>22.105263</td>\n",
       "      <td>64.210526</td>\n",
       "      <td>1.052632</td>\n",
       "      <td>11.578947</td>\n",
       "      <td>1.052632</td>\n",
       "      <td>comp.graphics</td>\n",
       "    </tr>\n",
       "    <tr>\n",
       "      <th>2</th>\n",
       "      <td>1.818182</td>\n",
       "      <td>1.818182</td>\n",
       "      <td>1.818182</td>\n",
       "      <td>1.818182</td>\n",
       "      <td>92.727273</td>\n",
       "      <td>comp.os.ms-windows.misc</td>\n",
       "    </tr>\n",
       "    <tr>\n",
       "      <th>3</th>\n",
       "      <td>4.000000</td>\n",
       "      <td>84.000000</td>\n",
       "      <td>4.000000</td>\n",
       "      <td>4.000000</td>\n",
       "      <td>4.000000</td>\n",
       "      <td>comp.sys.ibm.pc.hardware</td>\n",
       "    </tr>\n",
       "    <tr>\n",
       "      <th>4</th>\n",
       "      <td>1.176471</td>\n",
       "      <td>1.176471</td>\n",
       "      <td>60.000000</td>\n",
       "      <td>24.705882</td>\n",
       "      <td>12.941176</td>\n",
       "      <td>comp.sys.mac.hardware</td>\n",
       "    </tr>\n",
       "    <tr>\n",
       "      <th>5</th>\n",
       "      <td>0.540541</td>\n",
       "      <td>0.540541</td>\n",
       "      <td>0.540541</td>\n",
       "      <td>97.837838</td>\n",
       "      <td>0.540541</td>\n",
       "      <td>comp.windows.x</td>\n",
       "    </tr>\n",
       "    <tr>\n",
       "      <th>6</th>\n",
       "      <td>1.818182</td>\n",
       "      <td>1.818182</td>\n",
       "      <td>1.818182</td>\n",
       "      <td>1.818182</td>\n",
       "      <td>92.727273</td>\n",
       "      <td>misc.forsale</td>\n",
       "    </tr>\n",
       "    <tr>\n",
       "      <th>7</th>\n",
       "      <td>1.333333</td>\n",
       "      <td>94.666667</td>\n",
       "      <td>1.333333</td>\n",
       "      <td>1.333333</td>\n",
       "      <td>1.333333</td>\n",
       "      <td>rec.autos</td>\n",
       "    </tr>\n",
       "    <tr>\n",
       "      <th>8</th>\n",
       "      <td>6.666667</td>\n",
       "      <td>73.333333</td>\n",
       "      <td>6.666667</td>\n",
       "      <td>6.666667</td>\n",
       "      <td>6.666667</td>\n",
       "      <td>rec.motorcycles</td>\n",
       "    </tr>\n",
       "    <tr>\n",
       "      <th>9</th>\n",
       "      <td>21.379310</td>\n",
       "      <td>76.551724</td>\n",
       "      <td>0.689655</td>\n",
       "      <td>0.689655</td>\n",
       "      <td>0.689655</td>\n",
       "      <td>rec.sport.baseball</td>\n",
       "    </tr>\n",
       "  </tbody>\n",
       "</table>\n",
       "</div>"
      ],
      "text/plain": [
       "           0          1          2          3          4  \\\n",
       "0   2.222222   2.222222  68.888889  24.444444   2.222222   \n",
       "1  22.105263  64.210526   1.052632  11.578947   1.052632   \n",
       "2   1.818182   1.818182   1.818182   1.818182  92.727273   \n",
       "3   4.000000  84.000000   4.000000   4.000000   4.000000   \n",
       "4   1.176471   1.176471  60.000000  24.705882  12.941176   \n",
       "5   0.540541   0.540541   0.540541  97.837838   0.540541   \n",
       "6   1.818182   1.818182   1.818182   1.818182  92.727273   \n",
       "7   1.333333  94.666667   1.333333   1.333333   1.333333   \n",
       "8   6.666667  73.333333   6.666667   6.666667   6.666667   \n",
       "9  21.379310  76.551724   0.689655   0.689655   0.689655   \n",
       "\n",
       "                     target  \n",
       "0               alt.atheism  \n",
       "1             comp.graphics  \n",
       "2   comp.os.ms-windows.misc  \n",
       "3  comp.sys.ibm.pc.hardware  \n",
       "4     comp.sys.mac.hardware  \n",
       "5            comp.windows.x  \n",
       "6              misc.forsale  \n",
       "7                 rec.autos  \n",
       "8           rec.motorcycles  \n",
       "9        rec.sport.baseball  "
      ]
     },
     "execution_count": 24,
     "metadata": {},
     "output_type": "execute_result"
    }
   ],
   "source": [
    "N = 10\n",
    "df = pd.DataFrame(model.DK[:N, :] / model.DK[:N, :].sum(axis=1, keepdims=True)) * 100\n",
    "df[\"target\"] = newsgroups_train.target_names[:N]\n",
    "df"
   ]
  },
  {
   "cell_type": "code",
   "execution_count": 27,
   "metadata": {
    "collapsed": false
   },
   "outputs": [
    {
     "data": {
      "text/plain": [
       "<matplotlib.text.Text at 0x7f25a3ac7e50>"
      ]
     },
     "execution_count": 27,
     "metadata": {},
     "output_type": "execute_result"
    },
    {
     "data": {
      "image/png": "[encoded data removed]",
      "text/plain": [
       "<matplotlib.figure.Figure at 0x7f25a476b6d0>"
      ]
     },
     "metadata": {},
     "output_type": "display_data"
    }
   ],
   "source": [
    "plt.plot(*zip(*model.trace), marker=\"o\")\n",
    "plt.xlabel(\"Iterations\")\n",
    "plt.ylabel(\"Out of sample perplexity\")"
   ]
  },
  {
   "cell_type": "code",
   "execution_count": 28,
   "metadata": {
    "collapsed": false
   },
   "outputs": [
    {
     "name": "stdout",
     "output_type": "stream",
     "text": [
      "\n"
     ]
    },
    {
     "data": {
      "text/html": [
       "<div>\n",
       "<table border=\"1\" class=\"dataframe\">\n",
       "  <thead>\n",
       "    <tr style=\"text-align: right;\">\n",
       "      <th></th>\n",
       "      <th>0</th>\n",
       "      <th>1</th>\n",
       "      <th>2</th>\n",
       "      <th>3</th>\n",
       "      <th>4</th>\n",
       "      <th>target</th>\n",
       "    </tr>\n",
       "  </thead>\n",
       "  <tbody>\n",
       "    <tr>\n",
       "      <th>0</th>\n",
       "      <td>73.333333</td>\n",
       "      <td>6.666667</td>\n",
       "      <td>6.666667</td>\n",
       "      <td>6.666667</td>\n",
       "      <td>6.666667</td>\n",
       "      <td>alt.atheism</td>\n",
       "    </tr>\n",
       "    <tr>\n",
       "      <th>1</th>\n",
       "      <td>46.666667</td>\n",
       "      <td>46.666667</td>\n",
       "      <td>2.222222</td>\n",
       "      <td>2.222222</td>\n",
       "      <td>2.222222</td>\n",
       "      <td>comp.graphics</td>\n",
       "    </tr>\n",
       "    <tr>\n",
       "      <th>2</th>\n",
       "      <td>84.000000</td>\n",
       "      <td>4.000000</td>\n",
       "      <td>4.000000</td>\n",
       "      <td>4.000000</td>\n",
       "      <td>4.000000</td>\n",
       "      <td>comp.os.ms-windows.misc</td>\n",
       "    </tr>\n",
       "    <tr>\n",
       "      <th>3</th>\n",
       "      <td>54.160584</td>\n",
       "      <td>0.145985</td>\n",
       "      <td>0.145985</td>\n",
       "      <td>45.401460</td>\n",
       "      <td>0.145985</td>\n",
       "      <td>comp.sys.ibm.pc.hardware</td>\n",
       "    </tr>\n",
       "    <tr>\n",
       "      <th>4</th>\n",
       "      <td>4.000000</td>\n",
       "      <td>4.000000</td>\n",
       "      <td>4.000000</td>\n",
       "      <td>84.000000</td>\n",
       "      <td>4.000000</td>\n",
       "      <td>comp.sys.mac.hardware</td>\n",
       "    </tr>\n",
       "    <tr>\n",
       "      <th>5</th>\n",
       "      <td>0.122699</td>\n",
       "      <td>1.349693</td>\n",
       "      <td>98.282209</td>\n",
       "      <td>0.122699</td>\n",
       "      <td>0.122699</td>\n",
       "      <td>comp.windows.x</td>\n",
       "    </tr>\n",
       "    <tr>\n",
       "      <th>6</th>\n",
       "      <td>20.000000</td>\n",
       "      <td>20.000000</td>\n",
       "      <td>20.000000</td>\n",
       "      <td>20.000000</td>\n",
       "      <td>20.000000</td>\n",
       "      <td>misc.forsale</td>\n",
       "    </tr>\n",
       "    <tr>\n",
       "      <th>7</th>\n",
       "      <td>1.333333</td>\n",
       "      <td>54.666667</td>\n",
       "      <td>1.333333</td>\n",
       "      <td>41.333333</td>\n",
       "      <td>1.333333</td>\n",
       "      <td>rec.autos</td>\n",
       "    </tr>\n",
       "    <tr>\n",
       "      <th>8</th>\n",
       "      <td>68.888889</td>\n",
       "      <td>2.222222</td>\n",
       "      <td>24.444444</td>\n",
       "      <td>2.222222</td>\n",
       "      <td>2.222222</td>\n",
       "      <td>rec.motorcycles</td>\n",
       "    </tr>\n",
       "    <tr>\n",
       "      <th>9</th>\n",
       "      <td>0.952381</td>\n",
       "      <td>58.095238</td>\n",
       "      <td>10.476190</td>\n",
       "      <td>29.523810</td>\n",
       "      <td>0.952381</td>\n",
       "      <td>rec.sport.baseball</td>\n",
       "    </tr>\n",
       "  </tbody>\n",
       "</table>\n",
       "</div>"
      ],
      "text/plain": [
       "           0          1          2          3          4  \\\n",
       "0  73.333333   6.666667   6.666667   6.666667   6.666667   \n",
       "1  46.666667  46.666667   2.222222   2.222222   2.222222   \n",
       "2  84.000000   4.000000   4.000000   4.000000   4.000000   \n",
       "3  54.160584   0.145985   0.145985  45.401460   0.145985   \n",
       "4   4.000000   4.000000   4.000000  84.000000   4.000000   \n",
       "5   0.122699   1.349693  98.282209   0.122699   0.122699   \n",
       "6  20.000000  20.000000  20.000000  20.000000  20.000000   \n",
       "7   1.333333  54.666667   1.333333  41.333333   1.333333   \n",
       "8  68.888889   2.222222  24.444444   2.222222   2.222222   \n",
       "9   0.952381  58.095238  10.476190  29.523810   0.952381   \n",
       "\n",
       "                     target  \n",
       "0               alt.atheism  \n",
       "1             comp.graphics  \n",
       "2   comp.os.ms-windows.misc  \n",
       "3  comp.sys.ibm.pc.hardware  \n",
       "4     comp.sys.mac.hardware  \n",
       "5            comp.windows.x  \n",
       "6              misc.forsale  \n",
       "7                 rec.autos  \n",
       "8           rec.motorcycles  \n",
       "9        rec.sport.baseball  "
      ]
     },
     "execution_count": 28,
     "metadata": {},
     "output_type": "execute_result"
    }
   ],
   "source": [
    "DTK = model.init_test(test_docs, max_iters=10)\n",
    "df = pd.DataFrame(DTK[:N, :] / DTK[:N, :].sum(axis=1, keepdims=True)) * 100\n",
    "df[\"target\"] = newsgroups_test.target_names[:N]\n",
    "df"
   ]
  },
  {
   "cell_type": "markdown",
   "metadata": {},
   "source": [
    "## Test topic numbers to perplexity"
   ]
  },
  {
   "cell_type": "code",
   "execution_count": 32,
   "metadata": {
    "collapsed": false
   },
   "outputs": [
    {
     "name": "stdout",
     "output_type": "stream",
     "text": [
      "Model initialized\n",
      "K=5, perplexity=11228.1150549\n",
      "Model initialized\n",
      "K=6, perplexity=11192.9857171\n",
      "Model initialized\n",
      "K=7, perplexity=11060.7123179\n",
      "Model initialized\n",
      "K=8, perplexity=10565.5100093\n",
      "Model initialized\n",
      "K=9, perplexity=10272.064344\n",
      "Model initialized\n",
      "K=10, perplexity=10423.2863015\n",
      "Model initialized\n",
      "K=11, perplexity=10347.9536522\n",
      "Model initialized\n",
      "K=12, perplexity=10629.6372572\n",
      "Model initialized\n",
      "K=13, perplexity=10074.9744519\n",
      "Model initialized\n",
      "K=14, perplexity=10252.1282055\n",
      "Model initialized\n",
      "K=15, perplexity=9803.869096\n",
      "Model initialized\n",
      "K=16, perplexity=10000.9016751\n",
      "Model initialized\n",
      "K=17, perplexity=10232.8386132\n",
      "Model initialized\n",
      "K=18, perplexity=10046.131141\n",
      "Model initialized\n",
      "K=19, perplexity=10272.6114225\n",
      "\n"
     ]
    }
   ],
   "source": [
    "trace = []\n",
    "for K in tqdm_notebook(xrange(5,20), total=20-5 + 1, desc=\"K\"):\n",
    "    model = LDAModel(K=K, D=len(newsgroups_train.data), vocab=id2word, beta=0.5, alpha=0.1)\n",
    "    model.fit(docs, max_iters=100, print_every=-1, test_docs=None)\n",
    "    trace.append((K, model.perplexity(test_docs, is_test=True)))\n",
    "    print(\"K=%s, perplexity=%s\" % trace[-1])"
   ]
  },
  {
   "cell_type": "code",
   "execution_count": 33,
   "metadata": {
    "collapsed": false
   },
   "outputs": [
    {
     "data": {
      "text/plain": [
       "<matplotlib.text.Text at 0x7f25a1067910>"
      ]
     },
     "execution_count": 33,
     "metadata": {},
     "output_type": "execute_result"
    },
    {
     "data": {
      "image/png": "[encoded data removed]",
      "text/plain": [
       "<matplotlib.figure.Figure at 0x7f25a3af5490>"
      ]
     },
     "metadata": {},
     "output_type": "display_data"
    }
   ],
   "source": [
    "plt.plot(*zip(*trace), marker=\"o\")\n",
    "plt.xlabel(\"Number of topics\")\n",
    "plt.ylabel(\"Out of sample perplexity\")"
   ]
  },
  {
   "cell_type": "code",
   "execution_count": 34,
   "metadata": {
    "collapsed": false
   },
   "outputs": [
    {
     "name": "stdout",
     "output_type": "stream",
     "text": [
      "TOPIC 0: cdi (0.14 %)\tneedles (0.13 %)\tfossil (0.13 %)\tadcom (0.12 %)\tjhu (0.12 %)\tpalestineans (0.12 %)\tfredericton (0.12 %)\txclrp (0.11 %)\tforsale (0.11 %)\treactor (0.11 %)\n",
      "TOPIC 1: cardinals (0.14 %)\thitters (0.13 %)\tcatchers (0.13 %)\tbullpen (0.13 %)\tpittsburg (0.12 %)\troyals (0.12 %)\tconner (0.12 %)\trunners (0.12 %)\ttiger (0.12 %)\tberryhill (0.11 %)\n",
      "TOPIC 2: nren (0.12 %)\tdisclosure (0.11 %)\tremailer (0.10 %)\twiretaps (0.10 %)\tinquiry (0.10 %)\tphysicist (0.10 %)\tadministrators (0.10 %)\tsyquest (0.09 %)\tcypherpunks (0.09 %)\thackers (0.09 %)\n",
      "TOPIC 3: ariane (0.14 %)\targentina (0.14 %)\tbolshevik (0.13 %)\tsdio (0.13 %)\tballoon (0.12 %)\tmariner (0.12 %)\tsql (0.12 %)\tmotorcycling (0.11 %)\tpluto (0.11 %)\themisphere (0.11 %)\n",
      "TOPIC 4: farid (0.12 %)\tcypriot (0.12 %)\tottomans (0.11 %)\tdro (0.11 %)\tgehrels (0.11 %)\tcollaboration (0.10 %)\tbayonet (0.10 %)\ttartars (0.10 %)\targumentum (0.10 %)\tinference (0.10 %)\n",
      "TOPIC 5: kirlian (0.10 %)\thandheld (0.09 %)\tsphinx (0.09 %)\tsanctions (0.09 %)\tlarc (0.09 %)\tsocialists (0.09 %)\tgsfc (0.08 %)\tprefix (0.08 %)\tcdt (0.08 %)\tcopperud (0.08 %)\n",
      "TOPIC 6: moses (0.09 %)\tcor (0.09 %)\tmuhammad (0.09 %)\tgentile (0.09 %)\tmessenger (0.08 %)\tezekiel (0.08 %)\tcondemned (0.08 %)\tcontradicts (0.08 %)\tgodhead (0.08 %)\thebrews (0.08 %)\n",
      "TOPIC 7: olney (0.14 %)\tcatbyte (0.14 %)\tdtmedin (0.13 %)\tbeauchaine (0.13 %)\tamino (0.13 %)\tbobbe (0.13 %)\tabstinence (0.11 %)\tqueens (0.11 %)\tsank (0.10 %)\tbronx (0.10 %)\n",
      "TOPIC 8: fyn (0.15 %)\tmarijuana (0.13 %)\tcocaine (0.13 %)\twod (0.13 %)\tcryptosystems (0.13 %)\tsymmetric (0.11 %)\tlegalization (0.11 %)\tgk (0.11 %)\triley (0.11 %)\tenviroleague (0.11 %)\n",
      "TOPIC 9: bindings (0.10 %)\tplplot (0.10 %)\twinbench (0.10 %)\thostname (0.09 %)\tphotoshop (0.09 %)\tncsa (0.09 %)\tdebugger (0.09 %)\ttvtwm (0.09 %)\tdecenso (0.09 %)\txpm (0.09 %)\n",
      "TOPIC 10: nylander (0.12 %)\tpoulin (0.12 %)\tandersson (0.12 %)\tyzerman (0.12 %)\troughing (0.12 %)\techl (0.12 %)\thawgood (0.11 %)\tlafontaine (0.11 %)\tneely (0.11 %)\tbelfour (0.11 %)\n",
      "TOPIC 11: cols (0.14 %)\tgerard (0.13 %)\tarens (0.12 %)\tsheath (0.12 %)\tworkspace (0.11 %)\texercises (0.11 %)\tfishing (0.11 %)\texpn (0.10 %)\tagrep (0.10 %)\tul (0.10 %)\n",
      "TOPIC 12: revolvers (0.16 %)\tnmm (0.15 %)\trll (0.14 %)\tmaynard (0.13 %)\tglocks (0.13 %)\tcolormaps (0.13 %)\tomniscient (0.12 %)\tgnd (0.12 %)\tdepression (0.11 %)\toverpass (0.11 %)\n",
      "TOPIC 13: keycode (0.13 %)\thomeopathy (0.13 %)\tsystemic (0.12 %)\tantibiotics (0.12 %)\tdyer (0.12 %)\tsinuses (0.12 %)\tnystatin (0.12 %)\tfatwa (0.12 %)\tfungal (0.12 %)\tinstinctive (0.11 %)\n",
      "TOPIC 14: hernlem (0.13 %)\totis (0.13 %)\tpockets (0.12 %)\tmechanic (0.12 %)\twrench (0.11 %)\tautobahn (0.11 %)\thezbollah (0.11 %)\tsedan (0.10 %)\tporsche (0.10 %)\tmounting (0.10 %)\n",
      "TOPIC 15: xsizehints (0.14 %)\tvd (0.14 %)\tirgun (0.13 %)\tdeir (0.11 %)\tdeaf (0.11 %)\tnambla (0.11 %)\tvay (0.11 %)\tdominance (0.10 %)\trestored (0.10 %)\tunconventional (0.10 %)\n",
      "TOPIC 16: hojali (0.15 %)\taunt (0.13 %)\tentryway (0.13 %)\tshagen (0.12 %)\tapartments (0.11 %)\tcourtyard (0.11 %)\tanania (0.11 %)\tcfg (0.11 %)\tambulance (0.11 %)\tyerevan (0.10 %)\n",
      "TOPIC 17: rmc (0.14 %)\thj (0.14 %)\tsqs (0.13 %)\tiq (0.13 %)\tgyx (0.13 %)\tdz (0.13 %)\tlhz (0.13 %)\tdenizens (0.13 %)\tkotl (0.12 %)\ttongues (0.12 %)\n",
      "TOPIC 18: hobgoblin (0.16 %)\tpunisher (0.15 %)\tspider (0.13 %)\tspence (0.12 %)\tkeller (0.12 %)\tbagged (0.12 %)\tsquid (0.12 %)\tchamps (0.12 %)\tivy (0.11 %)\tdwi (0.11 %)\n"
     ]
    }
   ],
   "source": [
    "model.show_topics()"
   ]
  },
  {
   "cell_type": "code",
   "execution_count": 35,
   "metadata": {
    "collapsed": false
   },
   "outputs": [
    {
     "data": {
      "text/plain": [
       "{'alt.atheism',\n",
       " 'comp.graphics',\n",
       " 'comp.os.ms-windows.misc',\n",
       " 'comp.sys.ibm.pc.hardware',\n",
       " 'comp.sys.mac.hardware',\n",
       " 'comp.windows.x',\n",
       " 'misc.forsale',\n",
       " 'rec.autos',\n",
       " 'rec.motorcycles',\n",
       " 'rec.sport.baseball',\n",
       " 'rec.sport.hockey',\n",
       " 'sci.crypt',\n",
       " 'sci.electronics',\n",
       " 'sci.med',\n",
       " 'sci.space',\n",
       " 'soc.religion.christian',\n",
       " 'talk.politics.guns',\n",
       " 'talk.politics.mideast',\n",
       " 'talk.politics.misc',\n",
       " 'talk.religion.misc'}"
      ]
     },
     "execution_count": 35,
     "metadata": {},
     "output_type": "execute_result"
    }
   ],
   "source": [
    "set(newsgroups_train.target_names)"
   ]
  },
  {
   "cell_type": "code",
   "execution_count": null,
   "metadata": {
    "collapsed": true
   },
   "outputs": [],
   "source": []
  }
 ],
 "metadata": {
  "kernelspec": {
   "display_name": "Python 2",
   "language": "python",
   "name": "python2"
  },
  "language_info": {
   "codemirror_mode": {
    "name": "ipython",
    "version": 2
   },
   "file_extension": ".py",
   "mimetype": "text/x-python",
   "name": "python",
   "nbconvert_exporter": "python",
   "pygments_lexer": "ipython2",
   "version": "2.7.12"
  }
 },
 "nbformat": 4,
 "nbformat_minor": 0
}
